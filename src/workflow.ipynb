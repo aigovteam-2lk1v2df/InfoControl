{
 "cells": [
  {
   "cell_type": "code",
   "execution_count": null,
   "id": "8200c728",
   "metadata": {
    "vscode": {
     "languageId": "plaintext"
    }
   },
   "outputs": [],
   "source": []
  },
  {
   "cell_type": "code",
   "execution_count": null,
   "id": "67ee2d29",
   "metadata": {
    "vscode": {
     "languageId": "plaintext"
    }
   },
   "outputs": [],
   "source": [
    "import dotenv\n",
    "import os\n",
    "import glob, json\n",
    "import pandas as pd\n",
    "from tqdm import tqdm\n",
    "from langchain_openai import ChatOpenAI\n",
    "from IPython.display import display\n",
    "\n",
    "\n",
    "\n",
    "\n",
    "REF_DATA_DIRECTORY = 'data/'  # Change accordingly\n",
    "DEV = True\n",
    "\n",
    "dotenv.load_dotenv('.env')  # read local .env file\n",
    "os.environ[\"LANGCHAIN_PROJECT\"] = 'SMU-InfoControl'\n",
    "os.environ[\"LANGCHAIN_TRACING_V2\"] = 'true'\n",
    "\n",
    "print(\"Env successfully loaded | OpenAI key: \", os.environ['OPENAI_API_KEY'][:15], \" | Langsmith key:\", os.environ['LANGCHAIN_API_KEY'][20:], \n",
    "      \" | Mistral key:\", os.environ['MISTRAL_API_KEY'][:10], \" | Groq key:\", os.environ['GROQ_API_KEY'][:10])"
   ]
  },
  {
   "cell_type": "code",
   "execution_count": null,
   "id": "8dc7df9d",
   "metadata": {
    "vscode": {
     "languageId": "plaintext"
    }
   },
   "outputs": [],
   "source": []
  }
 ],
 "metadata": {
  "language_info": {
   "name": "python"
  }
 },
 "nbformat": 4,
 "nbformat_minor": 5
}
