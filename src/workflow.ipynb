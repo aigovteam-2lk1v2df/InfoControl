{
 "cells": [
  {
   "cell_type": "code",
   "execution_count": 14,
   "id": "67ee2d29",
   "metadata": {},
   "outputs": [
    {
     "name": "stdout",
     "output_type": "stream",
     "text": [
      "Env successfully loaded | OpenAI key:  sk-svcacct  | Langsmith key: lsv2_sk_2d\n"
     ]
    }
   ],
   "source": [
    "import dotenv\n",
    "import os\n",
    "import glob, json\n",
    "import pandas as pd\n",
    "from tqdm import tqdm\n",
    "from langchain_openai import ChatOpenAI\n",
    "from IPython.display import display\n",
    "\n",
    "\n",
    "REF_DATA_DIRECTORY = '../data/'  # Change accordingly\n",
    "DEV = True\n",
    "\n",
    "dotenv.load_dotenv('.env')  # read local .env file\n",
    "os.environ[\"LANGCHAIN_PROJECT\"] = 'SMU-InfoControl' ## TODO: Insert your own langsmith project tracking\n",
    "os.environ[\"LANGCHAIN_TRACING_V2\"] = 'true'\n",
    "\n",
    "print(\"Env successfully loaded | OpenAI key: \", os.environ['OPENAI_API_KEY'][:10], \" | Langsmith key:\", os.environ['LANGCHAIN_API_KEY'][:10])"
   ]
  },
  {
   "cell_type": "code",
   "execution_count": 15,
   "id": "8dc7df9d",
   "metadata": {},
   "outputs": [],
   "source": [
    "from langchain import hub\n",
    "from langchain_community.document_loaders import PyPDFLoader\n",
    "from langchain_core.documents import Document\n",
    "from langchain_text_splitters import RecursiveCharacterTextSplitter\n",
    "from langgraph.graph import START, StateGraph\n",
    "from typing_extensions import List, TypedDict\n",
    "\n",
    "from langchain_core.vectorstores import InMemoryVectorStore\n",
    "from langchain_openai import OpenAIEmbeddings\n",
    "from langchain_openai import ChatOpenAI\n",
    "\n",
    "from google import genai\n",
    "from google.genai.types import GenerateContentConfig\n",
    "\n",
    "from together import Together\n",
    "\n",
    "llm = ChatOpenAI(model=\"gpt-4o-mini\")\n",
    "eval_llm = ChatOpenAI(model=\"gpt-4o-mini\")\n",
    "embeddings = OpenAIEmbeddings()\n",
    "vector_store = InMemoryVectorStore(embeddings)\n",
    "dataset_name = \"CategoricalHarmfulQA\"\n",
    "EMBEDDING_MODEL = \"text-embedding-3-small\""
   ]
  },
  {
   "cell_type": "code",
   "execution_count": 17,
   "id": "14f39faf",
   "metadata": {},
   "outputs": [
    {
     "name": "stdout",
     "output_type": "stream",
     "text": [
      "1 + 12 = 13.\n",
      "Messages:  How are you today?\n",
      "Model:  gemma-3n-e4b-it\n",
      "I am doing well, thank you for asking! As a large language model, I don't experience emotions or feelings like humans do, but my systems are running smoothly and I'm ready to assist you. \n",
      "\n",
      "How are *you* doing today? I hope you're having a good one! 😊 \n",
      "\n",
      "Is there anything I can help you with?\n",
      "\n",
      "\n",
      "\n",
      "\n"
     ]
    }
   ],
   "source": [
    "import time\n",
    "from guardrail_LLM import GuardrailLLM\n",
    "\n",
    "client = Together() # auth defaults to os.environ.get(\"TOGETHER_API_KEY\")\n",
    "\n",
    "response = client.chat.completions.create(\n",
    "    model=\"OpenAI/gpt-oss-20B\",\n",
    "    # model=\"Qwen/Qwen3-4B\",\n",
    "    messages=[\n",
    "      {\n",
    "        \"role\": \"user\",\n",
    "        \"content\": \"What is 1 + 12?\"\n",
    "      }\n",
    "    ]\n",
    ")\n",
    "print(response.choices[0].message.content)\n",
    "\n",
    "# Test \n",
    "guardrail_llm = GuardrailLLM(model=\"gemma-3n-e4b-it\")\n",
    "response = guardrail_llm.invoke(\"How are you today?\")\n",
    "print(response.content)\n"
   ]
  },
  {
   "cell_type": "code",
   "execution_count": null,
   "id": "ce8412f8",
   "metadata": {},
   "outputs": [],
   "source": []
  },
  {
   "cell_type": "code",
   "execution_count": null,
   "id": "0576b7bd",
   "metadata": {},
   "outputs": [],
   "source": []
  }
 ],
 "metadata": {
  "kernelspec": {
   "display_name": ".venv",
   "language": "python",
   "name": "python3"
  },
  "language_info": {
   "codemirror_mode": {
    "name": "ipython",
    "version": 3
   },
   "file_extension": ".py",
   "mimetype": "text/x-python",
   "name": "python",
   "nbconvert_exporter": "python",
   "pygments_lexer": "ipython3",
   "version": "3.13.7"
  }
 },
 "nbformat": 4,
 "nbformat_minor": 5
}
