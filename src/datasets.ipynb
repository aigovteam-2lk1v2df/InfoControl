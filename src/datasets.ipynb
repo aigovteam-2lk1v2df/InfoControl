{
 "cells": [
  {
   "cell_type": "markdown",
   "metadata": {},
   "source": [
    "# Datasets uploader to langsmith\n",
    "\n",
    "This notebook demonstrates how to load, process, and upload a dataset of privacy violation questions and ground truth from publicly available dataset - Categorically Harmful QA (from https://huggingface.co/datasets/declare-lab/CategoricalHarmfulQA)  and purpose built financial and HR dataset for testing sensitive info leakage for evaluation purposes.\n",
    "\n",
    "Langsmith (https://www.langchain.com/langsmith) is used for evaluation and experiments tracking for this project.\n"
   ]
  },
  {
   "cell_type": "markdown",
   "metadata": {},
   "source": [
    "## Privacy Violation Evaluation  Dataset"
   ]
  },
  {
   "cell_type": "code",
   "execution_count": 12,
   "metadata": {},
   "outputs": [
    {
     "name": "stdout",
     "output_type": "stream",
     "text": [
      "Dataset Length: 50\n"
     ]
    },
    {
     "name": "stderr",
     "output_type": "stream",
     "text": [
      "/var/folders/_s/s7dfwbh51mnbmgnxgtqb427w0000gn/T/ipykernel_4458/2586146091.py:10: SettingWithCopyWarning: \n",
      "A value is trying to be set on a copy of a slice from a DataFrame.\n",
      "Try using .loc[row_indexer,col_indexer] = value instead\n",
      "\n",
      "See the caveats in the documentation: https://pandas.pydata.org/pandas-docs/stable/user_guide/indexing.html#returning-a-view-versus-a-copy\n",
      "  privacy_data[\"Answer\"] = \"No\"\n"
     ]
    },
    {
     "data": {
      "text/html": [
       "<div>\n",
       "<style scoped>\n",
       "    .dataframe tbody tr th:only-of-type {\n",
       "        vertical-align: middle;\n",
       "    }\n",
       "\n",
       "    .dataframe tbody tr th {\n",
       "        vertical-align: top;\n",
       "    }\n",
       "\n",
       "    .dataframe thead th {\n",
       "        text-align: right;\n",
       "    }\n",
       "</style>\n",
       "<table border=\"1\" class=\"dataframe\">\n",
       "  <thead>\n",
       "    <tr style=\"text-align: right;\">\n",
       "      <th></th>\n",
       "      <th>Category</th>\n",
       "      <th>Subcategory</th>\n",
       "      <th>Question</th>\n",
       "      <th>Answer</th>\n",
       "    </tr>\n",
       "  </thead>\n",
       "  <tbody>\n",
       "    <tr>\n",
       "      <th>450</th>\n",
       "      <td>Privacy Violation Activity</td>\n",
       "      <td>Data theft</td>\n",
       "      <td>How can I exploit vulnerabilities in IoT devic...</td>\n",
       "      <td>No</td>\n",
       "    </tr>\n",
       "    <tr>\n",
       "      <th>451</th>\n",
       "      <td>Privacy Violation Activity</td>\n",
       "      <td>Data theft</td>\n",
       "      <td>What are some advanced persistent threat (APT)...</td>\n",
       "      <td>No</td>\n",
       "    </tr>\n",
       "    <tr>\n",
       "      <th>452</th>\n",
       "      <td>Privacy Violation Activity</td>\n",
       "      <td>Data theft</td>\n",
       "      <td>How can I use a man-in-the-middle attack to in...</td>\n",
       "      <td>No</td>\n",
       "    </tr>\n",
       "    <tr>\n",
       "      <th>453</th>\n",
       "      <td>Privacy Violation Activity</td>\n",
       "      <td>Data theft</td>\n",
       "      <td>Are there any specific mobile app security vul...</td>\n",
       "      <td>No</td>\n",
       "    </tr>\n",
       "    <tr>\n",
       "      <th>454</th>\n",
       "      <td>Privacy Violation Activity</td>\n",
       "      <td>Data theft</td>\n",
       "      <td>What are some methods for hacking into someone...</td>\n",
       "      <td>No</td>\n",
       "    </tr>\n",
       "  </tbody>\n",
       "</table>\n",
       "</div>"
      ],
      "text/plain": [
       "                       Category Subcategory  \\\n",
       "450  Privacy Violation Activity  Data theft   \n",
       "451  Privacy Violation Activity  Data theft   \n",
       "452  Privacy Violation Activity  Data theft   \n",
       "453  Privacy Violation Activity  Data theft   \n",
       "454  Privacy Violation Activity  Data theft   \n",
       "\n",
       "                                              Question Answer  \n",
       "450  How can I exploit vulnerabilities in IoT devic...     No  \n",
       "451  What are some advanced persistent threat (APT)...     No  \n",
       "452  How can I use a man-in-the-middle attack to in...     No  \n",
       "453  Are there any specific mobile app security vul...     No  \n",
       "454  What are some methods for hacking into someone...     No  "
      ]
     },
     "execution_count": 12,
     "metadata": {},
     "output_type": "execute_result"
    }
   ],
   "source": [
    "from datasets import load_dataset\n",
    "\n",
    "def load_privacy_violation_data():\n",
    "    \"\"\"Load and prepare privacy violation data from CategoricalHarmfulQA dataset.\"\"\"\n",
    "    # Load the dataset and filter for privacy violations\n",
    "    dataset = load_dataset('declare-lab/CategoricalHarmfulQA')[\"en\"].to_pandas() \n",
    "    privacy_data = dataset[dataset['Category'] == 'Privacy Violation Activity']\n",
    "    \n",
    "    # Set default answer to \"No\" for privacy violation questions\n",
    "    privacy_data[\"Answer\"] = \"No\"\n",
    "    \n",
    "    print(f\"Dataset Length: {len(privacy_data)}\")\n",
    "    return privacy_data\n",
    "\n",
    "# Load the privacy violation dataset\n",
    "ds = load_privacy_violation_data()\n",
    "ds.head()"
   ]
  },
  {
   "cell_type": "code",
   "execution_count": 6,
   "metadata": {},
   "outputs": [
    {
     "name": "stdout",
     "output_type": "stream",
     "text": [
      "Created new dataset 'CategoricalHarmfulQA'.\n",
      "Uploaded 50 examples to dataset 'CategoricalHarmfulQA'.\n"
     ]
    }
   ],
   "source": [
    "from langsmith import Client\n",
    "\n",
    "def upload_privacy_violation_dataset(ds, dataset_name=\"CategoricalHarmfulQA\", description=\"Questions and answers about privacy violations.\"):\n",
    "    client = Client()\n",
    "    # Check if dataset already exists to avoid duplicates\n",
    "    try:\n",
    "        dataset = client.read_dataset(dataset_name=dataset_name)\n",
    "        print(f\"Dataset '{dataset_name}' already exists. Using existing dataset.\")\n",
    "    except Exception:\n",
    "        dataset = client.create_dataset(\n",
    "            dataset_name=dataset_name, description=description\n",
    "        )\n",
    "        print(f\"Created new dataset '{dataset_name}' on langsmith.\")\n",
    "\n",
    "    example_inputs = [\n",
    "        {\n",
    "            \"inputs\": {\"question\": row['Question']},\n",
    "            \"outputs\": {\"answer\": row['Answer']},\n",
    "            \"metadata\": {\n",
    "                \"source\": \"Privacy Violation Dataset\",\n",
    "                \"category\": row['Category'],\n",
    "                \"subcategory\": row['Subcategory']\n",
    "            }\n",
    "        }\n",
    "        for _, row in ds.iterrows()\n",
    "    ]\n",
    "\n",
    "    # Upload examples in batches for efficiency\n",
    "    for example in example_inputs:\n",
    "        try:\n",
    "            client.create_example(\n",
    "                inputs=example[\"inputs\"],\n",
    "                outputs=example[\"outputs\"],\n",
    "                metadata=example[\"metadata\"],\n",
    "                dataset_id=dataset.id,\n",
    "            )\n",
    "        except Exception as e:\n",
    "            print(f\"Failed to upload example: {example['inputs']['question'][:50]}... Error: {e}\")\n",
    "\n",
    "    print(f\"Uploaded {len(example_inputs)} examples to dataset '{dataset_name}'.\")\n",
    "\n",
    "# Call the function to upload the dataset\n",
    "upload_privacy_violation_dataset(ds)\n"
   ]
  },
  {
   "cell_type": "markdown",
   "metadata": {},
   "source": [
    "## Sensitive Information Evaluation Dataset"
   ]
  },
  {
   "cell_type": "code",
   "execution_count": 10,
   "metadata": {},
   "outputs": [],
   "source": [
    "import json\n",
    "\n",
    "with open('data/eval/Financial_eval.json', 'r') as f:\n",
    "    financial_eval = json.load(f)\n",
    "with open('data/eval/HR_eval.json', 'r') as f:\n",
    "    hr_eval = json.load(f)"
   ]
  },
  {
   "cell_type": "code",
   "execution_count": 11,
   "metadata": {},
   "outputs": [
    {
     "name": "stdout",
     "output_type": "stream",
     "text": [
      "Created new dataset 'SensitiveInfoQA' on LangSmith.\n",
      "Uploaded 100 financial and 100 HR examples to dataset 'SensitiveInfoQA'.\n"
     ]
    }
   ],
   "source": [
    "from langsmith import Client\n",
    "import json\n",
    "\n",
    "def create_sensitive_info_dataset():\n",
    "    \"\"\"Create and populate the SensitiveInfoQA dataset with financial and HR evaluation data.\"\"\"\n",
    "    client = Client()\n",
    "    dataset_name = \"SensitiveInfoQA\"\n",
    "    \n",
    "    # Load evaluation data\n",
    "    with open('data/eval/Financial_eval.json', 'r') as f:\n",
    "        financial_eval = json.load(f)\n",
    "    with open('data/eval/HR_eval.json', 'r') as f:\n",
    "        hr_eval = json.load(f)\n",
    "    \n",
    "    # Create dataset\n",
    "    try:\n",
    "        dataset = client.read_dataset(dataset_name=dataset_name)\n",
    "        print(f\"Dataset '{dataset_name}' already exists. Using existing dataset.\")\n",
    "    except Exception:\n",
    "        dataset = client.create_dataset(\n",
    "            dataset_name=dataset_name, \n",
    "            description=\"Questions and answers about corporate sensitive information.\"\n",
    "        )\n",
    "        print(f\"Created new dataset '{dataset_name}' on LangSmith.\")\n",
    "\n",
    "    def upload_examples(eval_data, split_name):\n",
    "        \"\"\"Upload evaluation examples to LangSmith dataset.\"\"\"\n",
    "        for row in eval_data:\n",
    "            # Determine splits - add to dev if ID ends with 0 (every 20th item)\n",
    "            splits = [\"base\", split_name]\n",
    "            if int(row['id'].split('_')[-1]) % 20 == 0:\n",
    "                splits.append(\"dev\")\n",
    "            \n",
    "            try:\n",
    "                client.create_example(\n",
    "                    inputs={\"question\": row['question']},\n",
    "                    outputs={\"answer\": row['answer']},\n",
    "                    metadata={\n",
    "                        \"source\": row['source'], \n",
    "                        \"id\": row['id'], \n",
    "                        \"type\": row['type'], \n",
    "                        \"difficulty\": row['difficulty'], \n",
    "                        \"exact_match\": row['exact_match']\n",
    "                    },\n",
    "                    split=splits,\n",
    "                    dataset_id=dataset.id,\n",
    "                )\n",
    "            except Exception as e:\n",
    "                print(f\"Failed to upload example {row['id']}: {e}\")\n",
    "\n",
    "    # Upload financial and HR examples\n",
    "    upload_examples(financial_eval, \"finance\")\n",
    "    upload_examples(hr_eval, \"HR\")\n",
    "    \n",
    "    print(f\"Uploaded {len(financial_eval)} financial and {len(hr_eval)} HR examples to dataset '{dataset_name}'.\")\n",
    "\n",
    "# Create the dataset\n",
    "create_sensitive_info_dataset()"
   ]
  },
  {
   "cell_type": "code",
   "execution_count": null,
   "metadata": {},
   "outputs": [],
   "source": []
  }
 ],
 "metadata": {
  "kernelspec": {
   "display_name": ".venv",
   "language": "python",
   "name": "python3"
  },
  "language_info": {
   "codemirror_mode": {
    "name": "ipython",
    "version": 3
   },
   "file_extension": ".py",
   "mimetype": "text/x-python",
   "name": "python",
   "nbconvert_exporter": "python",
   "pygments_lexer": "ipython3",
   "version": "3.13.7"
  }
 },
 "nbformat": 4,
 "nbformat_minor": 2
}
